{
 "cells": [
  {
   "cell_type": "code",
   "execution_count": null,
   "id": "cd290a87-adfb-4da9-91c7-a86b0dbc7a98",
   "metadata": {},
   "outputs": [],
   "source": []
  }
 ],
 "metadata": {
  "kernelspec": {
   "display_name": "",
   "name": ""
  },
  "language_info": {
   "name": ""
  }
 },
 "nbformat": 4,
 "nbformat_minor": 5
}
